{
  "nbformat": 4,
  "nbformat_minor": 0,
  "metadata": {
    "kernelspec": {
      "display_name": "Python 3",
      "language": "python",
      "name": "python3"
    },
    "language_info": {
      "codemirror_mode": {
        "name": "ipython",
        "version": 3
      },
      "file_extension": ".py",
      "mimetype": "text/x-python",
      "name": "python",
      "nbconvert_exporter": "python",
      "pygments_lexer": "ipython3",
      "version": "3.7.2"
    },
    "colab": {
      "name": "main.ipynb",
      "provenance": []
    }
  },
  "cells": [
    {
      "cell_type": "markdown",
      "metadata": {
        "id": "zPhI3QbfupPb"
      },
      "source": [
        "# Parallelization Lab\n",
        "\n",
        "In this lab, you will be leveraging several concepts you have learned to obtain a list of links from a web page and crawl and index the pages referenced by those links - both sequentially and in parallel. Follow the steps below to complete the lab.\n",
        "\n",
        "### Step 1: Use the requests library to retrieve the content from the URL below."
      ]
    },
    {
      "cell_type": "code",
      "metadata": {
        "id": "S8ptKMAYupPh"
      },
      "source": [
        "import requests\n",
        "\n",
        "url = 'https://en.wikipedia.org/wiki/Data_science'"
      ],
      "execution_count": 1,
      "outputs": []
    },
    {
      "cell_type": "code",
      "metadata": {
        "colab": {
          "base_uri": "https://localhost:8080/"
        },
        "id": "rWFLhhveupPi",
        "outputId": "f54c9d75-f06b-4167-ed76-28e7d47c930a"
      },
      "source": [
        "# your code here\n",
        "\n",
        "response = requests.get(url)\n",
        "response"
      ],
      "execution_count": 2,
      "outputs": [
        {
          "output_type": "execute_result",
          "data": {
            "text/plain": [
              "<Response [200]>"
            ]
          },
          "metadata": {},
          "execution_count": 2
        }
      ]
    },
    {
      "cell_type": "markdown",
      "metadata": {
        "id": "Gqi5f2AeupPj"
      },
      "source": [
        "### Step 2: Use BeautifulSoup to extract a list of all the unique links on the page."
      ]
    },
    {
      "cell_type": "code",
      "metadata": {
        "id": "yeFSZplUupPj"
      },
      "source": [
        "from bs4 import BeautifulSoup"
      ],
      "execution_count": 3,
      "outputs": []
    },
    {
      "cell_type": "code",
      "metadata": {
        "scrolled": true,
        "colab": {
          "base_uri": "https://localhost:8080/"
        },
        "id": "OAYwcbVOupPj",
        "outputId": "a367c874-24a3-4348-c4b0-893f6fe760bc"
      },
      "source": [
        "# your code here\n",
        "\n",
        "soup = BeautifulSoup(response.content)\n",
        "soup.find_all('a')"
      ],
      "execution_count": 7,
      "outputs": [
        {
          "output_type": "execute_result",
          "data": {
            "text/plain": [
              "[<a id=\"top\"></a>,\n",
              " <a class=\"mw-jump-link\" href=\"#mw-head\">Jump to navigation</a>,\n",
              " <a class=\"mw-jump-link\" href=\"#searchInput\">Jump to search</a>,\n",
              " <a href=\"/wiki/Information_science\" title=\"Information science\">information science</a>,\n",
              " <a class=\"image\" href=\"/wiki/File:PIA23792-1600x1200(1).jpg\"><img alt=\"\" class=\"thumbimage\" data-file-height=\"1200\" data-file-width=\"1600\" decoding=\"async\" height=\"188\" src=\"//upload.wikimedia.org/wikipedia/commons/thumb/4/45/PIA23792-1600x1200%281%29.jpg/250px-PIA23792-1600x1200%281%29.jpg\" srcset=\"//upload.wikimedia.org/wikipedia/commons/thumb/4/45/PIA23792-1600x1200%281%29.jpg/375px-PIA23792-1600x1200%281%29.jpg 1.5x, //upload.wikimedia.org/wikipedia/commons/thumb/4/45/PIA23792-1600x1200%281%29.jpg/500px-PIA23792-1600x1200%281%29.jpg 2x\" width=\"250\"/></a>,\n",
              " <a class=\"internal\" href=\"/wiki/File:PIA23792-1600x1200(1).jpg\" title=\"Enlarge\"></a>,\n",
              " <a href=\"/wiki/Comet_NEOWISE\" title=\"Comet NEOWISE\">Comet NEOWISE</a>,\n",
              " <a href=\"/wiki/Astronomical_survey\" title=\"Astronomical survey\">astronomical survey</a>,\n",
              " <a href=\"/wiki/Space_telescope\" title=\"Space telescope\">space telescope</a>,\n",
              " <a href=\"/wiki/Wide-field_Infrared_Survey_Explorer\" title=\"Wide-field Infrared Survey Explorer\">Wide-field Infrared Survey Explorer</a>,\n",
              " <a href=\"/wiki/Machine_learning\" title=\"Machine learning\">Machine learning</a>,\n",
              " <a href=\"/wiki/Data_mining\" title=\"Data mining\">data mining</a>,\n",
              " <a class=\"image\" href=\"/wiki/File:Kernel_Machine.svg\" title=\"Scatterplot featuring a linear support vector machine's decision boundary (dashed line)\"><img alt=\"Scatterplot featuring a linear support vector machine's decision boundary (dashed line)\" data-file-height=\"233\" data-file-width=\"512\" decoding=\"async\" height=\"100\" src=\"//upload.wikimedia.org/wikipedia/commons/thumb/f/fe/Kernel_Machine.svg/220px-Kernel_Machine.svg.png\" srcset=\"//upload.wikimedia.org/wikipedia/commons/thumb/f/fe/Kernel_Machine.svg/330px-Kernel_Machine.svg.png 1.5x, //upload.wikimedia.org/wikipedia/commons/thumb/f/fe/Kernel_Machine.svg/440px-Kernel_Machine.svg.png 2x\" width=\"220\"/></a>,\n",
              " <a href=\"/wiki/Statistical_classification\" title=\"Statistical classification\">Classification</a>,\n",
              " <a href=\"/wiki/Cluster_analysis\" title=\"Cluster analysis\">Clustering</a>,\n",
              " <a href=\"/wiki/Regression_analysis\" title=\"Regression analysis\">Regression</a>,\n",
              " <a href=\"/wiki/Anomaly_detection\" title=\"Anomaly detection\">Anomaly detection</a>,\n",
              " <a class=\"mw-redirect\" href=\"/wiki/Data_Cleaning\" title=\"Data Cleaning\">Data Cleaning</a>,\n",
              " <a href=\"/wiki/Automated_machine_learning\" title=\"Automated machine learning\">AutoML</a>,\n",
              " <a href=\"/wiki/Association_rule_learning\" title=\"Association rule learning\">Association rules</a>,\n",
              " <a href=\"/wiki/Reinforcement_learning\" title=\"Reinforcement learning\">Reinforcement learning</a>,\n",
              " <a href=\"/wiki/Structured_prediction\" title=\"Structured prediction\">Structured prediction</a>,\n",
              " <a href=\"/wiki/Feature_engineering\" title=\"Feature engineering\">Feature engineering</a>,\n",
              " <a href=\"/wiki/Feature_learning\" title=\"Feature learning\">Feature learning</a>,\n",
              " <a href=\"/wiki/Online_machine_learning\" title=\"Online machine learning\">Online learning</a>,\n",
              " <a href=\"/wiki/Semi-supervised_learning\" title=\"Semi-supervised learning\">Semi-supervised learning</a>,\n",
              " <a href=\"/wiki/Unsupervised_learning\" title=\"Unsupervised learning\">Unsupervised learning</a>,\n",
              " <a href=\"/wiki/Learning_to_rank\" title=\"Learning to rank\">Learning to rank</a>,\n",
              " <a href=\"/wiki/Grammar_induction\" title=\"Grammar induction\">Grammar induction</a>,\n",
              " <a href=\"/wiki/Supervised_learning\" title=\"Supervised learning\">Supervised learning</a>,\n",
              " <a href=\"/wiki/Statistical_classification\" title=\"Statistical classification\">classification</a>,\n",
              " <a href=\"/wiki/Regression_analysis\" title=\"Regression analysis\">regression</a>,\n",
              " <a href=\"/wiki/Decision_tree_learning\" title=\"Decision tree learning\">Decision trees</a>,\n",
              " <a href=\"/wiki/Ensemble_learning\" title=\"Ensemble learning\">Ensembles</a>,\n",
              " <a href=\"/wiki/Bootstrap_aggregating\" title=\"Bootstrap aggregating\">Bagging</a>,\n",
              " <a href=\"/wiki/Boosting_(machine_learning)\" title=\"Boosting (machine learning)\">Boosting</a>,\n",
              " <a href=\"/wiki/Random_forest\" title=\"Random forest\">Random forest</a>,\n",
              " <a href=\"/wiki/K-nearest_neighbors_algorithm\" title=\"K-nearest neighbors algorithm\"><i>k</i>-NN</a>,\n",
              " <a href=\"/wiki/Linear_regression\" title=\"Linear regression\">Linear regression</a>,\n",
              " <a href=\"/wiki/Naive_Bayes_classifier\" title=\"Naive Bayes classifier\">Naive Bayes</a>,\n",
              " <a href=\"/wiki/Artificial_neural_network\" title=\"Artificial neural network\">Artificial neural networks</a>,\n",
              " <a href=\"/wiki/Logistic_regression\" title=\"Logistic regression\">Logistic regression</a>,\n",
              " <a href=\"/wiki/Perceptron\" title=\"Perceptron\">Perceptron</a>,\n",
              " <a href=\"/wiki/Relevance_vector_machine\" title=\"Relevance vector machine\">Relevance vector machine (RVM)</a>,\n",
              " <a href=\"/wiki/Support-vector_machine\" title=\"Support-vector machine\">Support vector machine (SVM)</a>,\n",
              " <a href=\"/wiki/Cluster_analysis\" title=\"Cluster analysis\">Clustering</a>,\n",
              " <a href=\"/wiki/BIRCH\" title=\"BIRCH\">BIRCH</a>,\n",
              " <a href=\"/wiki/CURE_algorithm\" title=\"CURE algorithm\">CURE</a>,\n",
              " <a href=\"/wiki/Hierarchical_clustering\" title=\"Hierarchical clustering\">Hierarchical</a>,\n",
              " <a href=\"/wiki/K-means_clustering\" title=\"K-means clustering\"><i>k</i>-means</a>,\n",
              " <a href=\"/wiki/Expectation%E2%80%93maximization_algorithm\" title=\"Expectation–maximization algorithm\">Expectation–maximization (EM)</a>,\n",
              " <a href=\"/wiki/DBSCAN\" title=\"DBSCAN\">DBSCAN</a>,\n",
              " <a href=\"/wiki/OPTICS_algorithm\" title=\"OPTICS algorithm\">OPTICS</a>,\n",
              " <a href=\"/wiki/Mean_shift\" title=\"Mean shift\">Mean shift</a>,\n",
              " <a href=\"/wiki/Dimensionality_reduction\" title=\"Dimensionality reduction\">Dimensionality reduction</a>,\n",
              " <a href=\"/wiki/Factor_analysis\" title=\"Factor analysis\">Factor analysis</a>,\n",
              " <a href=\"/wiki/Canonical_correlation\" title=\"Canonical correlation\">CCA</a>,\n",
              " <a href=\"/wiki/Independent_component_analysis\" title=\"Independent component analysis\">ICA</a>,\n",
              " <a href=\"/wiki/Linear_discriminant_analysis\" title=\"Linear discriminant analysis\">LDA</a>,\n",
              " <a href=\"/wiki/Non-negative_matrix_factorization\" title=\"Non-negative matrix factorization\">NMF</a>,\n",
              " <a href=\"/wiki/Principal_component_analysis\" title=\"Principal component analysis\">PCA</a>,\n",
              " <a href=\"/wiki/Proper_generalized_decomposition\" title=\"Proper generalized decomposition\">PGD</a>,\n",
              " <a href=\"/wiki/T-distributed_stochastic_neighbor_embedding\" title=\"T-distributed stochastic neighbor embedding\">t-SNE</a>,\n",
              " <a href=\"/wiki/Structured_prediction\" title=\"Structured prediction\">Structured prediction</a>,\n",
              " <a href=\"/wiki/Graphical_model\" title=\"Graphical model\">Graphical models</a>,\n",
              " <a href=\"/wiki/Bayesian_network\" title=\"Bayesian network\">Bayes net</a>,\n",
              " <a href=\"/wiki/Conditional_random_field\" title=\"Conditional random field\">Conditional random field</a>,\n",
              " <a href=\"/wiki/Hidden_Markov_model\" title=\"Hidden Markov model\">Hidden Markov</a>,\n",
              " <a href=\"/wiki/Anomaly_detection\" title=\"Anomaly detection\">Anomaly detection</a>,\n",
              " <a class=\"mw-redirect\" href=\"/wiki/K-nearest_neighbors_classification\" title=\"K-nearest neighbors classification\"><i>k</i>-NN</a>,\n",
              " <a href=\"/wiki/Local_outlier_factor\" title=\"Local outlier factor\">Local outlier factor</a>,\n",
              " <a href=\"/wiki/Artificial_neural_network\" title=\"Artificial neural network\">Artificial neural network</a>,\n",
              " <a href=\"/wiki/Autoencoder\" title=\"Autoencoder\">Autoencoder</a>,\n",
              " <a href=\"/wiki/Cognitive_computing\" title=\"Cognitive computing\">Cognitive computing</a>,\n",
              " <a href=\"/wiki/Deep_learning\" title=\"Deep learning\">Deep learning</a>,\n",
              " <a href=\"/wiki/DeepDream\" title=\"DeepDream\">DeepDream</a>,\n",
              " <a href=\"/wiki/Multilayer_perceptron\" title=\"Multilayer perceptron\">Multilayer perceptron</a>,\n",
              " <a href=\"/wiki/Recurrent_neural_network\" title=\"Recurrent neural network\">RNN</a>,\n",
              " <a href=\"/wiki/Long_short-term_memory\" title=\"Long short-term memory\">LSTM</a>,\n",
              " <a href=\"/wiki/Gated_recurrent_unit\" title=\"Gated recurrent unit\">GRU</a>,\n",
              " <a href=\"/wiki/Echo_state_network\" title=\"Echo state network\">ESN</a>,\n",
              " <a href=\"/wiki/Restricted_Boltzmann_machine\" title=\"Restricted Boltzmann machine\">Restricted Boltzmann machine</a>,\n",
              " <a href=\"/wiki/Generative_adversarial_network\" title=\"Generative adversarial network\">GAN</a>,\n",
              " <a href=\"/wiki/Self-organizing_map\" title=\"Self-organizing map\">SOM</a>,\n",
              " <a href=\"/wiki/Convolutional_neural_network\" title=\"Convolutional neural network\">Convolutional neural network</a>,\n",
              " <a href=\"/wiki/U-Net\" title=\"U-Net\">U-Net</a>,\n",
              " <a href=\"/wiki/Transformer_(machine_learning_model)\" title=\"Transformer (machine learning model)\">Transformer</a>,\n",
              " <a href=\"/wiki/Vision_transformer\" title=\"Vision transformer\">Vision</a>,\n",
              " <a href=\"/wiki/Spiking_neural_network\" title=\"Spiking neural network\">Spiking neural network</a>,\n",
              " <a href=\"/wiki/Memtransistor\" title=\"Memtransistor\">Memtransistor</a>,\n",
              " <a href=\"/wiki/Electrochemical_RAM\" title=\"Electrochemical RAM\">Electrochemical RAM</a>,\n",
              " <a href=\"/wiki/Reinforcement_learning\" title=\"Reinforcement learning\">Reinforcement learning</a>,\n",
              " <a href=\"/wiki/Q-learning\" title=\"Q-learning\">Q-learning</a>,\n",
              " <a href=\"/wiki/State%E2%80%93action%E2%80%93reward%E2%80%93state%E2%80%93action\" title=\"State–action–reward–state–action\">SARSA</a>,\n",
              " <a href=\"/wiki/Temporal_difference_learning\" title=\"Temporal difference learning\">Temporal difference (TD)</a>,\n",
              " <a class=\"mw-redirect\" href=\"/wiki/Kernel_machines\" title=\"Kernel machines\">Kernel machines</a>,\n",
              " <a href=\"/wiki/Bias%E2%80%93variance_tradeoff\" title=\"Bias–variance tradeoff\">Bias–variance tradeoff</a>,\n",
              " <a href=\"/wiki/Computational_learning_theory\" title=\"Computational learning theory\">Computational learning theory</a>,\n",
              " <a href=\"/wiki/Empirical_risk_minimization\" title=\"Empirical risk minimization\">Empirical risk minimization</a>,\n",
              " <a href=\"/wiki/Occam_learning\" title=\"Occam learning\">Occam learning</a>,\n",
              " <a href=\"/wiki/Probably_approximately_correct_learning\" title=\"Probably approximately correct learning\">PAC learning</a>,\n",
              " <a href=\"/wiki/Statistical_learning_theory\" title=\"Statistical learning theory\">Statistical learning</a>,\n",
              " <a href=\"/wiki/Vapnik%E2%80%93Chervonenkis_theory\" title=\"Vapnik–Chervonenkis theory\">VC theory</a>,\n",
              " <a href=\"/wiki/Conference_on_Neural_Information_Processing_Systems\" title=\"Conference on Neural Information Processing Systems\">NeurIPS</a>,\n",
              " <a href=\"/wiki/International_Conference_on_Machine_Learning\" title=\"International Conference on Machine Learning\">ICML</a>,\n",
              " <a href=\"/wiki/Machine_Learning_(journal)\" title=\"Machine Learning (journal)\">ML</a>,\n",
              " <a href=\"/wiki/Journal_of_Machine_Learning_Research\" title=\"Journal of Machine Learning Research\">JMLR</a>,\n",
              " <a class=\"external text\" href=\"https://arxiv.org/list/cs.LG/recent\" rel=\"nofollow\">ArXiv:cs.LG</a>,\n",
              " <a href=\"/wiki/Glossary_of_artificial_intelligence\" title=\"Glossary of artificial intelligence\">Glossary of artificial intelligence</a>,\n",
              " <a href=\"/wiki/List_of_datasets_for_machine-learning_research\" title=\"List of datasets for machine-learning research\">List of datasets for machine-learning research</a>,\n",
              " <a href=\"/wiki/Outline_of_machine_learning\" title=\"Outline of machine learning\">Outline of machine learning</a>,\n",
              " <a href=\"/wiki/Template:Machine_learning\" title=\"Template:Machine learning\"><abbr title=\"View this template\">v</abbr></a>,\n",
              " <a href=\"/wiki/Template_talk:Machine_learning\" title=\"Template talk:Machine learning\"><abbr title=\"Discuss this template\">t</abbr></a>,\n",
              " <a class=\"external text\" href=\"https://en.wikipedia.org/w/index.php?title=Template:Machine_learning&amp;action=edit\"><abbr title=\"Edit this template\">e</abbr></a>,\n",
              " <a href=\"/wiki/Interdisciplinarity\" title=\"Interdisciplinarity\">interdisciplinary</a>,\n",
              " <a href=\"/wiki/Knowledge\" title=\"Knowledge\">knowledge</a>,\n",
              " <a href=\"/wiki/Unstructured_data\" title=\"Unstructured data\">unstructured data</a>,\n",
              " <a href=\"#cite_note-1\">[1]</a>,\n",
              " <a href=\"#cite_note-2\">[2]</a>,\n",
              " <a href=\"/wiki/Data_mining\" title=\"Data mining\">data mining</a>,\n",
              " <a href=\"/wiki/Machine_learning\" title=\"Machine learning\">machine learning</a>,\n",
              " <a href=\"/wiki/Big_data\" title=\"Big data\">big data</a>,\n",
              " <a href=\"/wiki/Statistics\" title=\"Statistics\">statistics</a>,\n",
              " <a href=\"/wiki/Data_analysis\" title=\"Data analysis\">data analysis</a>,\n",
              " <a href=\"/wiki/Informatics\" title=\"Informatics\">informatics</a>,\n",
              " <a href=\"#cite_note-3\">[3]</a>,\n",
              " <a href=\"/wiki/Mathematics\" title=\"Mathematics\">mathematics</a>,\n",
              " <a href=\"/wiki/Statistics\" title=\"Statistics\">statistics</a>,\n",
              " <a href=\"/wiki/Computer_science\" title=\"Computer science\">computer science</a>,\n",
              " <a href=\"/wiki/Information_science\" title=\"Information science\">information science</a>,\n",
              " <a href=\"/wiki/Domain_knowledge\" title=\"Domain knowledge\">domain knowledge</a>,\n",
              " <a href=\"/wiki/Turing_Award\" title=\"Turing Award\">Turing Award</a>,\n",
              " <a href=\"/wiki/Jim_Gray_(computer_scientist)\" title=\"Jim Gray (computer scientist)\">Jim Gray</a>,\n",
              " <a href=\"/wiki/Empirical_research\" title=\"Empirical research\">empirical</a>,\n",
              " <a href=\"/wiki/Basic_research\" title=\"Basic research\">theoretical</a>,\n",
              " <a href=\"/wiki/Computational_science\" title=\"Computational science\">computational</a>,\n",
              " <a href=\"/wiki/Information_technology\" title=\"Information technology\">information technology</a>,\n",
              " <a href=\"/wiki/Information_explosion\" title=\"Information explosion\">data deluge</a>,\n",
              " <a href=\"#cite_note-TansleyTolle2009-4\">[4]</a>,\n",
              " <a href=\"#cite_note-BellHey2009-5\">[5]</a>,\n",
              " <a href=\"#cite_note-6\">[6]</a>,\n",
              " <a href=\"#Foundations\"><span class=\"tocnumber\">1</span> <span class=\"toctext\">Foundations</span></a>,\n",
              " <a href=\"#Relationship_to_statistics\"><span class=\"tocnumber\">1.1</span> <span class=\"toctext\">Relationship to statistics</span></a>,\n",
              " <a href=\"#Etymology\"><span class=\"tocnumber\">2</span> <span class=\"toctext\">Etymology</span></a>,\n",
              " <a href=\"#Early_usage\"><span class=\"tocnumber\">2.1</span> <span class=\"toctext\">Early usage</span></a>,\n",
              " <a href=\"#Modern_usage\"><span class=\"tocnumber\">2.2</span> <span class=\"toctext\">Modern usage</span></a>,\n",
              " <a href=\"#Market\"><span class=\"tocnumber\">3</span> <span class=\"toctext\">Market</span></a>,\n",
              " <a href=\"#Technologies_and_techniques\"><span class=\"tocnumber\">4</span> <span class=\"toctext\">Technologies and techniques</span></a>,\n",
              " <a href=\"#Techniques\"><span class=\"tocnumber\">4.1</span> <span class=\"toctext\">Techniques</span></a>,\n",
              " <a href=\"#See_also\"><span class=\"tocnumber\">5</span> <span class=\"toctext\">See also</span></a>,\n",
              " <a href=\"#References\"><span class=\"tocnumber\">6</span> <span class=\"toctext\">References</span></a>,\n",
              " <a href=\"/w/index.php?title=Data_science&amp;action=edit&amp;section=1\" title=\"Edit section: Foundations\">edit</a>,\n",
              " <a href=\"/wiki/Big_data\" title=\"Big data\">big data</a>,\n",
              " <a href=\"#cite_note-7\">[7]</a>,\n",
              " <a href=\"/wiki/Information_visualization\" title=\"Information visualization\">information visualization</a>,\n",
              " <a class=\"mw-redirect\" href=\"/wiki/Complex_systems\" title=\"Complex systems\">complex systems</a>,\n",
              " <a href=\"/wiki/Communication\" title=\"Communication\">communication</a>,\n",
              " <a href=\"#cite_note-8\">[8]</a>,\n",
              " <a href=\"#cite_note-9\">[9]</a>,\n",
              " <a href=\"/wiki/Nathan_Yau\" title=\"Nathan Yau\">Nathan Yau</a>,\n",
              " <a href=\"/wiki/Ben_Fry\" title=\"Ben Fry\">Ben Fry</a>,\n",
              " <a href=\"/wiki/Human%E2%80%93computer_interaction\" title=\"Human–computer interaction\">human-computer interaction</a>,\n",
              " <a href=\"#cite_note-10\">[10]</a>,\n",
              " <a href=\"#cite_note-11\">[11]</a>,\n",
              " <a href=\"/wiki/American_Statistical_Association\" title=\"American Statistical Association\">American Statistical Association</a>,\n",
              " <a href=\"/wiki/Database\" title=\"Database\">database management</a>,\n",
              " <a href=\"/wiki/Machine_learning\" title=\"Machine learning\">machine learning</a>,\n",
              " <a href=\"/wiki/Distributed_computing\" title=\"Distributed computing\">distributed and parallel systems</a>,\n",
              " <a href=\"#cite_note-12\">[12]</a>,\n",
              " <a href=\"/w/index.php?title=Data_science&amp;action=edit&amp;section=2\" title=\"Edit section: Relationship to statistics\">edit</a>,\n",
              " <a href=\"/wiki/Nate_Silver\" title=\"Nate Silver\">Nate Silver</a>,\n",
              " <a href=\"#cite_note-13\">[13]</a>,\n",
              " <a href=\"#cite_note-14\">[14]</a>,\n",
              " <a href=\"/wiki/Vasant_Dhar\" title=\"Vasant Dhar\">Vasant Dhar</a>,\n",
              " <a href=\"#cite_note-15\">[15]</a>,\n",
              " <a href=\"/wiki/Andrew_Gelman\" title=\"Andrew Gelman\">Andrew Gelman</a>,\n",
              " <a href=\"/wiki/Columbia_University\" title=\"Columbia University\">Columbia University</a>,\n",
              " <a href=\"#cite_note-16\">[16]</a>,\n",
              " <a href=\"/wiki/David_Donoho\" title=\"David Donoho\">David Donoho</a>,\n",
              " <a href=\"#cite_note-:7-17\">[17]</a>,\n",
              " <a href=\"/w/index.php?title=Data_science&amp;action=edit&amp;section=3\" title=\"Edit section: Etymology\">edit</a>,\n",
              " <a href=\"/w/index.php?title=Data_science&amp;action=edit&amp;section=4\" title=\"Edit section: Early usage\">edit</a>,\n",
              " <a href=\"/wiki/John_Tukey\" title=\"John Tukey\">John Tukey</a>,\n",
              " <a href=\"#cite_note-:7-17\">[17]</a>,\n",
              " <a class=\"mw-redirect\" href=\"/wiki/C.F._Jeff_Wu\" title=\"C.F. Jeff Wu\">C.F. Jeff Wu</a>,\n",
              " <a href=\"#cite_note-18\">[18]</a>,\n",
              " <a href=\"/wiki/Montpellier_2_University\" title=\"Montpellier 2 University\">University of Montpellier II</a>,\n",
              " <a href=\"#cite_note-19\">[19]</a>,\n",
              " <a href=\"#cite_note-Murtagh_2018_14-20\">[20]</a>,\n",
              " <a href=\"/wiki/Peter_Naur\" title=\"Peter Naur\">Peter Naur</a>,\n",
              " <a href=\"#cite_note-:0-21\">[21]</a>,\n",
              " <a href=\"#cite_note-:0-21\">[21]</a>,\n",
              " <a class=\"mw-redirect\" href=\"/wiki/C.F._Jeff_Wu\" title=\"C.F. Jeff Wu\">C.F. Jeff Wu</a>,\n",
              " <a href=\"#cite_note-22\">[22]</a>,\n",
              " <a href=\"#cite_note-Murtagh_2018_14-20\">[20]</a>,\n",
              " <a href=\"#cite_note-:1-23\">[23]</a>,\n",
              " <a href=\"#cite_note-:0-21\">[21]</a>,\n",
              " <a href=\"/w/index.php?title=Data_science&amp;action=edit&amp;section=5\" title=\"Edit section: Modern usage\">edit</a>,\n",
              " <a href=\"/wiki/William_S._Cleveland\" title=\"William S. Cleveland\">William S. Cleveland</a>,\n",
              " <a href=\"#cite_note-24\">[24]</a>,\n",
              " <a href=\"#cite_note-:1-23\">[23]</a>,\n",
              " <a href=\"/wiki/Committee_on_Data_for_Science_and_Technology\" title=\"Committee on Data for Science and Technology\">Committee on Data for Science and Technology</a>,\n",
              " <a href=\"#cite_note-:1-23\">[23]</a>,\n",
              " <a href=\"/wiki/American_Statistical_Association\" title=\"American Statistical Association\">American Statistical Association</a>,\n",
              " <a href=\"#cite_note-25\">[25]</a>,\n",
              " <a href=\"/wiki/DJ_Patil\" title=\"DJ Patil\">DJ Patil</a>,\n",
              " <a href=\"/wiki/Jeff_Hammerbacher\" title=\"Jeff Hammerbacher\">Jeff Hammerbacher</a>,\n",
              " <a href=\"#cite_note-26\">[26]</a>,\n",
              " <a href=\"/wiki/National_Science_Board\" title=\"National Science Board\">National Science Board</a>,\n",
              " <a href=\"#cite_note-27\">[27]</a>,\n",
              " <a href=\"#cite_note-28\">[28]</a>,\n",
              " <a href=\"/w/index.php?title=Data_science&amp;action=edit&amp;section=6\" title=\"Edit section: Market\">edit</a>,\n",
              " <a href=\"#cite_note-:5-29\">[29]</a>,\n",
              " <a href=\"#cite_note-:5-29\">[29]</a>,\n",
              " <a href=\"#cite_note-:6-30\">[30]</a>,\n",
              " <a href=\"/w/index.php?title=Data_science&amp;action=edit&amp;section=7\" title=\"Edit section: Technologies and techniques\">edit</a>,\n",
              " <a href=\"/w/index.php?title=Data_science&amp;action=edit&amp;section=8\" title=\"Edit section: Techniques\">edit</a>,\n",
              " <a href=\"/wiki/Statistics#Methods\" title=\"Statistics\">Statistics § Methods</a>,\n",
              " <a href=\"/wiki/Linear_regression\" title=\"Linear regression\">Linear regression</a>,\n",
              " <a href=\"/wiki/Logistic_regression\" title=\"Logistic regression\">Logistic regression</a>,\n",
              " <a href=\"/wiki/Decision_tree\" title=\"Decision tree\">Decision trees</a>,\n",
              " <a href=\"/wiki/Support-vector_machine\" title=\"Support-vector machine\">Support-vector machine</a>,\n",
              " <a href=\"/wiki/Cluster_analysis\" title=\"Cluster analysis\">Cluster analysis</a>,\n",
              " <a href=\"/wiki/Dimensionality_reduction\" title=\"Dimensionality reduction\">Dimensionality reduction</a>,\n",
              " <a href=\"/wiki/Machine_learning\" title=\"Machine learning\">Machine learning</a>,\n",
              " <a href=\"/wiki/Naive_Bayes_classifier\" title=\"Naive Bayes classifier\">Naive Bayes classifiers</a>,\n",
              " <a href=\"/wiki/Bayes%27_theorem\" title=\"Bayes' theorem\">Bayes' theorem</a>,\n",
              " <a href=\"/w/index.php?title=Data_science&amp;action=edit&amp;section=9\" title=\"Edit section: See also\">edit</a>,\n",
              " <a href=\"/wiki/International_Journal_of_Population_Data_Science\" title=\"International Journal of Population Data Science\">International Journal of Population Data Science</a>,\n",
              " <a href=\"/w/index.php?title=Data_science&amp;action=edit&amp;section=10\" title=\"Edit section: References\">edit</a>,\n",
              " <a href=\"#cite_ref-1\">^</a>,\n",
              " <a class=\"external text\" href=\"http://cacm.acm.org/magazines/2013/12/169933-data-science-and-prediction/fulltext\" rel=\"nofollow\">\"Data science and prediction\"</a>,\n",
              " <a class=\"mw-redirect\" href=\"/wiki/Doi_(identifier)\" title=\"Doi (identifier)\">doi</a>,\n",
              " <a class=\"external text\" href=\"https://doi.org/10.1145%2F2500499\" rel=\"nofollow\">10.1145/2500499</a>,\n",
              " <a class=\"mw-redirect\" href=\"/wiki/S2CID_(identifier)\" title=\"S2CID (identifier)\">S2CID</a>,\n",
              " <a class=\"external text\" href=\"https://api.semanticscholar.org/CorpusID:6107147\" rel=\"nofollow\">6107147</a>,\n",
              " <a class=\"external text\" href=\"https://web.archive.org/web/20141109113411/http://cacm.acm.org/magazines/2013/12/169933-data-science-and-prediction/fulltext\" rel=\"nofollow\">Archived</a>,\n",
              " <a href=\"#cite_ref-2\">^</a>,\n",
              " <a href=\"/wiki/Jeffrey_T._Leek\" title=\"Jeffrey T. Leek\">Jeff Leek</a>,\n",
              " <a class=\"external text\" href=\"http://simplystatistics.org/2013/12/12/the-key-word-in-data-science-is-not-data-it-is-science/\" rel=\"nofollow\">\"The key word in \"Data Science\" is not Data, it is Science\"</a>,\n",
              " <a class=\"external text\" href=\"https://web.archive.org/web/20140102194117/http://simplystatistics.org/2013/12/12/the-key-word-in-data-science-is-not-data-it-is-science/\" rel=\"nofollow\">Archived</a>,\n",
              " <a href=\"#cite_ref-3\">^</a>,\n",
              " <a class=\"external text\" href=\"https://www.springer.com/book/9784431702085\" rel=\"nofollow\">\"What is Data Science? Fundamental Concepts and a Heuristic Example\"</a>,\n",
              " <a class=\"mw-redirect\" href=\"/wiki/Doi_(identifier)\" title=\"Doi (identifier)\">doi</a>,\n",
              " <a class=\"external text\" href=\"https://doi.org/10.1007%2F978-4-431-65950-1_3\" rel=\"nofollow\">10.1007/978-4-431-65950-1_3</a>,\n",
              " <a class=\"mw-redirect\" href=\"/wiki/ISBN_(identifier)\" title=\"ISBN (identifier)\">ISBN</a>,\n",
              " <a href=\"/wiki/Special:BookSources/9784431702085\" title=\"Special:BookSources/9784431702085\"><bdi>9784431702085</bdi></a>,\n",
              " <a href=\"#cite_ref-TansleyTolle2009_4-0\">^</a>,\n",
              " <a class=\"external text\" href=\"https://books.google.com/books?id=oGs_AQAAIAAJ\" rel=\"nofollow\"><i>The Fourth Paradigm: Data-intensive Scientific Discovery</i></a>,\n",
              " <a class=\"mw-redirect\" href=\"/wiki/ISBN_(identifier)\" title=\"ISBN (identifier)\">ISBN</a>,\n",
              " <a href=\"/wiki/Special:BookSources/978-0-9825442-0-4\" title=\"Special:BookSources/978-0-9825442-0-4\"><bdi>978-0-9825442-0-4</bdi></a>,\n",
              " <a class=\"external text\" href=\"https://web.archive.org/web/20170320193019/https://books.google.com/books?id=oGs_AQAAIAAJ\" rel=\"nofollow\">Archived</a>,\n",
              " <a href=\"#cite_ref-BellHey2009_5-0\">^</a>,\n",
              " <a class=\"mw-redirect\" href=\"/wiki/Doi_(identifier)\" title=\"Doi (identifier)\">doi</a>,\n",
              " <a class=\"external text\" href=\"https://doi.org/10.1126%2Fscience.1170411\" rel=\"nofollow\">10.1126/science.1170411</a>,\n",
              " <a class=\"mw-redirect\" href=\"/wiki/ISSN_(identifier)\" title=\"ISSN (identifier)\">ISSN</a>,\n",
              " <a class=\"external text\" href=\"//www.worldcat.org/issn/0036-8075\" rel=\"nofollow\">0036-8075</a>,\n",
              " <a class=\"mw-redirect\" href=\"/wiki/PMID_(identifier)\" title=\"PMID (identifier)\">PMID</a>,\n",
              " <a class=\"external text\" href=\"//pubmed.ncbi.nlm.nih.gov/19265007\" rel=\"nofollow\">19265007</a>,\n",
              " <a class=\"mw-redirect\" href=\"/wiki/S2CID_(identifier)\" title=\"S2CID (identifier)\">S2CID</a>,\n",
              " <a class=\"external text\" href=\"https://api.semanticscholar.org/CorpusID:9743327\" rel=\"nofollow\">9743327</a>,\n",
              " <a href=\"#cite_ref-6\">^</a>,\n",
              " <a class=\"external text\" href=\"https://hbr.org/2012/10/data-scientist-the-sexiest-job-of-the-21st-century/\" rel=\"nofollow\">\"Data Scientist: The Sexiest Job of the 21st Century\"</a>,\n",
              " <a href=\"#cite_ref-7\">^</a>,\n",
              " <a class=\"external text\" href=\"http://www.datascienceassn.org/about-data-science\" rel=\"nofollow\">\"About Data Science | Data Science Association\"</a>,\n",
              " <a href=\"#cite_ref-8\">^</a>,\n",
              " <a class=\"external text\" href=\"https://www.oreilly.com/library/view/doing-data-science/9781449363871/ch01.html\" rel=\"nofollow\">\"1. Introduction: What Is Data Science? - Doing Data Science [Book]\"</a>,\n",
              " <a href=\"#cite_ref-9\">^</a>,\n",
              " <a class=\"external text\" href=\"https://medriscoll.com/post/4740157098/the-three-sexy-skills-of-data-geeks\" rel=\"nofollow\">\"the three sexy skills of data geeks\"</a>,\n",
              " <a href=\"#cite_ref-10\">^</a>,\n",
              " <a class=\"external text\" href=\"https://flowingdata.com/2009/06/04/rise-of-the-data-scientist/\" rel=\"nofollow\">\"Rise of the Data Scientist\"</a>,\n",
              " <a href=\"#cite_ref-11\">^</a>,\n",
              " <a class=\"external text\" href=\"https://benfry.com/phd/dissertation/2.html\" rel=\"nofollow\">\"Basic Example\"</a>,\n",
              " <a href=\"#cite_ref-12\">^</a>,\n",
              " <a class=\"external text\" href=\"https://magazine.amstat.org/blog/2015/10/01/asa-statement-on-the-role-of-statistics-in-data-science/\" rel=\"nofollow\">\"ASA Statement on the Role of Statistics in Data Science\"</a>,\n",
              " <a href=\"/wiki/American_Statistical_Association\" title=\"American Statistical Association\">American Statistical Association</a>,\n",
              " <a class=\"external text\" href=\"https://web.archive.org/web/20190620184935/https://magazine.amstat.org/blog/2015/10/01/asa-statement-on-the-role-of-statistics-in-data-science/\" rel=\"nofollow\">Archived</a>,\n",
              " <a href=\"#cite_ref-13\">^</a>,\n",
              " <a class=\"external text\" href=\"https://www.statisticsviews.com/article/nate-silver-what-i-need-from-statisticians/\" rel=\"nofollow\">\"Nate Silver: What I need from statisticians - Statistics Views\"</a>,\n",
              " <a href=\"#cite_ref-14\">^</a>,\n",
              " <a class=\"external text\" href=\"http://priceonomics.com/whats-the-difference-between-data-science-and/\" rel=\"nofollow\">\"What's the Difference Between Data Science and Statistics?\"</a>,\n",
              " <a href=\"#cite_ref-15\">^</a>,\n",
              " <a class=\"mw-redirect\" href=\"/wiki/Doi_(identifier)\" title=\"Doi (identifier)\">doi</a>,\n",
              " <a class=\"external text\" href=\"https://doi.org/10.1145%2F2500499\" rel=\"nofollow\">10.1145/2500499</a>,\n",
              " <a class=\"mw-redirect\" href=\"/wiki/S2CID_(identifier)\" title=\"S2CID (identifier)\">S2CID</a>,\n",
              " <a class=\"external text\" href=\"https://api.semanticscholar.org/CorpusID:6107147\" rel=\"nofollow\">6107147</a>,\n",
              " <a href=\"#cite_ref-16\">^</a>,\n",
              " <a class=\"external text\" href=\"https://statmodeling.stat.columbia.edu/2013/11/14/statistics-least-important-part-data-science/\" rel=\"nofollow\">\"Statistics is the least important part of data science « Statistical Modeling, Causal Inference, and Social Science\"</a>,\n",
              " <a href=\"#cite_ref-:7_17-0\"><sup><i><b>a</b></i></sup></a>,\n",
              " <a href=\"#cite_ref-:7_17-1\"><sup><i><b>b</b></i></sup></a>,\n",
              " <a class=\"external text\" href=\"http://courses.csail.mit.edu/18.337/2015/docs/50YearsDataScience.pdf\" rel=\"nofollow\">\"50 years of Data Science\"</a>,\n",
              " <a href=\"#cite_ref-18\">^</a>,\n",
              " <a class=\"external text\" href=\"https://www2.isye.gatech.edu/~jeffwu/publications/fazhan.pdf\" rel=\"nofollow\">\"Future directions of statistical research in China: a historical perspective\"</a>,\n",
              " <a href=\"#cite_ref-19\">^</a>,\n",
              " <a class=\"mw-redirect\" href=\"/wiki/ISBN_(identifier)\" title=\"ISBN (identifier)\">ISBN</a>,\n",
              " <a href=\"/wiki/Special:BookSources/0-12-241770-4\" title=\"Special:BookSources/0-12-241770-4\"><bdi>0-12-241770-4</bdi></a>,\n",
              " <a class=\"mw-redirect\" href=\"/wiki/OCLC_(identifier)\" title=\"OCLC (identifier)\">OCLC</a>,\n",
              " <a class=\"external text\" href=\"//www.worldcat.org/oclc/489990740\" rel=\"nofollow\">489990740</a>,\n",
              " <a href=\"/wiki/Category:CS1_maint:_others\" title=\"Category:CS1 maint: others\">link</a>,\n",
              " <a href=\"#cite_ref-Murtagh_2018_14_20-0\"><sup><i><b>a</b></i></sup></a>,\n",
              " <a href=\"#cite_ref-Murtagh_2018_14_20-1\"><sup><i><b>b</b></i></sup></a>,\n",
              " <a class=\"external text\" href=\"https://doi.org/10.3390%2Fbdcc2020014\" rel=\"nofollow\">\"The Development of Data Science: Implications for Education, Employment, Research, and the Data Revolution for Sustainable Development\"</a>,\n",
              " <a class=\"mw-redirect\" href=\"/wiki/Doi_(identifier)\" title=\"Doi (identifier)\">doi</a>,\n",
              " <a class=\"external text\" href=\"https://doi.org/10.3390%2Fbdcc2020014\" rel=\"nofollow\">10.3390/bdcc2020014</a>,\n",
              " <a href=\"#cite_ref-:0_21-0\"><sup><i><b>a</b></i></sup></a>,\n",
              " <a href=\"#cite_ref-:0_21-1\"><sup><i><b>b</b></i></sup></a>,\n",
              " <a href=\"#cite_ref-:0_21-2\"><sup><i><b>c</b></i></sup></a>,\n",
              " <a class=\"external text\" href=\"https://doi.org/10.1145%2F3076253\" rel=\"nofollow\">\"Data Science\"</a>,\n",
              " <a class=\"mw-redirect\" href=\"/wiki/Doi_(identifier)\" title=\"Doi (identifier)\">doi</a>,\n",
              " <a class=\"external text\" href=\"https://doi.org/10.1145%2F3076253\" rel=\"nofollow\">10.1145/3076253</a>,\n",
              " <a href=\"#cite_ref-22\">^</a>,\n",
              " <a class=\"external text\" href=\"http://www2.isye.gatech.edu/~jeffwu/presentations/datascience.pdf\" rel=\"nofollow\">\"Statistics=Data Science?\"</a>,\n",
              " <a href=\"#cite_ref-:1_23-0\"><sup><i><b>a</b></i></sup></a>,\n",
              " <a href=\"#cite_ref-:1_23-1\"><sup><i><b>b</b></i></sup></a>,\n",
              " <a href=\"#cite_ref-:1_23-2\"><sup><i><b>c</b></i></sup></a>,\n",
              " <a class=\"external text\" href=\"https://www.forbes.com/sites/gilpress/2013/05/28/a-very-short-history-of-data-science/\" rel=\"nofollow\">\"A Very Short History of Data Science\"</a>,\n",
              " <a href=\"#cite_ref-24\">^</a>,\n",
              " <a class=\"external text\" href=\"https://www.stat.purdue.edu/~wsc/\" rel=\"nofollow\">\"William S Cleveland\"</a>,\n",
              " <a href=\"#cite_ref-25\">^</a>,\n",
              " <a class=\"external text\" href=\"https://magazine.amstat.org/blog/2016/06/01/datascience-2/\" rel=\"nofollow\">\"ASA Expands Scope, Outreach to Foster Growth, Collaboration in Data Science\"</a>,\n",
              " <a href=\"#cite_ref-26\">^</a>,\n",
              " <a class=\"external text\" href=\"https://hbr.org/2012/10/data-scientist-the-sexiest-job-of-the-21st-century\" rel=\"nofollow\">\"Data Scientist: The Sexiest Job of the 21st Century\"</a>,\n",
              " <a class=\"mw-redirect\" href=\"/wiki/ISSN_(identifier)\" title=\"ISSN (identifier)\">ISSN</a>,\n",
              " <a class=\"external text\" href=\"//www.worldcat.org/issn/0017-8012\" rel=\"nofollow\">0017-8012</a>,\n",
              " <a href=\"#cite_ref-27\">^</a>,\n",
              " <a class=\"external text\" href=\"https://www.nsf.gov/pubs/2005/nsb0540/\" rel=\"nofollow\">\"US NSF - NSB-05-40, Long-Lived Digital Data Collections Enabling Research and Education in the 21st Century\"</a>,\n",
              " <a href=\"#cite_ref-28\">^</a>,\n",
              " <a class=\"external text\" href=\"https://www.forbes.com/sites/gilpress/2013/08/19/data-science-whats-the-half-life-of-a-buzzword/\" rel=\"nofollow\">\"Data Science: What's The Half-Life of a Buzzword?\"</a>,\n",
              " <a href=\"#cite_ref-:5_29-0\"><sup><i><b>a</b></i></sup></a>,\n",
              " <a href=\"#cite_ref-:5_29-1\"><sup><i><b>b</b></i></sup></a>,\n",
              " <a class=\"external text\" href=\"https://www.forbes.com/sites/peterpham/2015/08/28/the-impacts-of-big-data-that-you-may-not-have-heard-of/\" rel=\"nofollow\">\"The Impacts of Big Data That You May Not Have Heard Of\"</a>,\n",
              " <a href=\"#cite_ref-:6_30-0\">^</a>,\n",
              " <a class=\"external text\" href=\"https://towardsdatascience.com/how-data-science-will-impact-future-of-businesses-7f11f5699c4d\" rel=\"nofollow\">\"How Data Science will Impact Future of Businesses?\"</a>,\n",
              " <a href=\"/wiki/Template:Data\" title=\"Template:Data\"><abbr style=\";;background:none transparent;border:none;box-shadow:none;padding:0;\" title=\"View this template\">v</abbr></a>,\n",
              " <a href=\"/wiki/Template_talk:Data\" title=\"Template talk:Data\"><abbr style=\";;background:none transparent;border:none;box-shadow:none;padding:0;\" title=\"Discuss this template\">t</abbr></a>,\n",
              " <a class=\"external text\" href=\"https://en.wikipedia.org/w/index.php?title=Template:Data&amp;action=edit\"><abbr style=\";;background:none transparent;border:none;box-shadow:none;padding:0;\" title=\"Edit this template\">e</abbr></a>,\n",
              " <a href=\"/wiki/Data_(computing)\" title=\"Data (computing)\">Data</a>,\n",
              " <a href=\"/wiki/Data_augmentation\" title=\"Data augmentation\">Augmentation</a>,\n",
              " <a href=\"/wiki/Data_analysis\" title=\"Data analysis\">Analysis</a>,\n",
              " <a href=\"/wiki/Data_archaeology\" title=\"Data archaeology\">Archaeology</a>,\n",
              " <a href=\"/wiki/Data_cleansing\" title=\"Data cleansing\">Cleansing</a>,\n",
              " <a href=\"/wiki/Data_collection\" title=\"Data collection\">Collection</a>,\n",
              " <a href=\"/wiki/Data_compression\" title=\"Data compression\">Compression</a>,\n",
              " <a href=\"/wiki/Data_corruption\" title=\"Data corruption\">Corruption</a>,\n",
              " <a href=\"/wiki/Data_curation\" title=\"Data curation\">Curation</a>,\n",
              " <a href=\"/wiki/Data_degradation\" title=\"Data degradation\">Degradation</a>,\n",
              " <a href=\"/wiki/Data_editing\" title=\"Data editing\">Editing</a>,\n",
              " <a href=\"/wiki/Extract,_transform,_load\" title=\"Extract, transform, load\">ETL</a>,\n",
              " <a href=\"/wiki/Extract,_load,_transform\" title=\"Extract, load, transform\">ELT</a>,\n",
              " <a href=\"/wiki/Data_extraction\" title=\"Data extraction\">Extract</a>,\n",
              " <a href=\"/wiki/Data_transformation\" title=\"Data transformation\">Transform</a>,\n",
              " <a class=\"mw-redirect\" href=\"/wiki/Data_loading\" title=\"Data loading\">Load</a>,\n",
              " <a href=\"/wiki/Data_farming\" title=\"Data farming\">Farming</a>,\n",
              " <a href=\"/wiki/Data_format_management\" title=\"Data format management\">Format management</a>,\n",
              " <a href=\"/wiki/Data_fusion\" title=\"Data fusion\">Fusion</a>,\n",
              " <a href=\"/wiki/Data_integration\" title=\"Data integration\">Integration</a>,\n",
              " <a href=\"/wiki/Data_integrity\" title=\"Data integrity\">Integrity</a>,\n",
              " <a href=\"/wiki/Data_library\" title=\"Data library\">Library</a>,\n",
              " <a href=\"/wiki/Data_loss\" title=\"Data loss\">Loss</a>,\n",
              " <a href=\"/wiki/Data_management\" title=\"Data management\">Management</a>,\n",
              " <a href=\"/wiki/Data_migration\" title=\"Data migration\">Migration</a>,\n",
              " <a href=\"/wiki/Data_mining\" title=\"Data mining\">Mining</a>,\n",
              " <a href=\"/wiki/Data_pre-processing\" title=\"Data pre-processing\">Pre-processing</a>,\n",
              " <a href=\"/wiki/Data_preservation\" title=\"Data preservation\">Preservation</a>,\n",
              " <a href=\"/wiki/Information_privacy\" title=\"Information privacy\">Protection (privacy)</a>,\n",
              " <a href=\"/wiki/Data_recovery\" title=\"Data recovery\">Recovery</a>,\n",
              " <a href=\"/wiki/Data_reduction\" title=\"Data reduction\">Reduction</a>,\n",
              " <a href=\"/wiki/Data_retention\" title=\"Data retention\">Retention</a>,\n",
              " <a href=\"/wiki/Data_quality\" title=\"Data quality\">Quality</a>,\n",
              " <a class=\"mw-selflink selflink\">Science</a>,\n",
              " <a href=\"/wiki/Data_scraping\" title=\"Data scraping\">Scraping</a>,\n",
              " <a href=\"/wiki/Data_scrubbing\" title=\"Data scrubbing\">Scrubbing</a>,\n",
              " <a href=\"/wiki/Data_security\" title=\"Data security\">Security</a>,\n",
              " <a href=\"/wiki/Data_steward\" title=\"Data steward\">Stewardship</a>,\n",
              " <a href=\"/wiki/Data_storage\" title=\"Data storage\">Storage</a>,\n",
              " <a href=\"/wiki/Data_validation\" title=\"Data validation\">Validation</a>,\n",
              " <a href=\"/wiki/Data_warehouse\" title=\"Data warehouse\">Warehouse</a>,\n",
              " <a href=\"/wiki/Data_wrangling\" title=\"Data wrangling\">Wrangling/munging</a>,\n",
              " <a dir=\"ltr\" href=\"https://en.wikipedia.org/w/index.php?title=Data_science&amp;oldid=1055090265\">https://en.wikipedia.org/w/index.php?title=Data_science&amp;oldid=1055090265</a>,\n",
              " <a href=\"/wiki/Help:Category\" title=\"Help:Category\">Categories</a>,\n",
              " <a href=\"/wiki/Category:Information_science\" title=\"Category:Information science\">Information science</a>,\n",
              " <a href=\"/wiki/Category:Computer_occupations\" title=\"Category:Computer occupations\">Computer occupations</a>,\n",
              " <a href=\"/wiki/Category:Computational_fields_of_study\" title=\"Category:Computational fields of study\">Computational fields of study</a>,\n",
              " <a href=\"/wiki/Category:Data_analysis\" title=\"Category:Data analysis\">Data analysis</a>,\n",
              " <a href=\"/wiki/Category:CS1_maint:_others\" title=\"Category:CS1 maint: others\">CS1 maint: others</a>,\n",
              " <a href=\"/wiki/Category:Articles_with_short_description\" title=\"Category:Articles with short description\">Articles with short description</a>,\n",
              " <a href=\"/wiki/Category:Short_description_matches_Wikidata\" title=\"Category:Short description matches Wikidata\">Short description matches Wikidata</a>,\n",
              " <a href=\"/wiki/Category:Use_dmy_dates_from_August_2021\" title=\"Category:Use dmy dates from August 2021\">Use dmy dates from August 2021</a>,\n",
              " <a accesskey=\"n\" href=\"/wiki/Special:MyTalk\" title=\"Discussion about edits from this IP address [n]\"><span>Talk</span></a>,\n",
              " <a accesskey=\"y\" href=\"/wiki/Special:MyContributions\" title=\"A list of edits made from this IP address [y]\"><span>Contributions</span></a>,\n",
              " <a href=\"/w/index.php?title=Special:CreateAccount&amp;returnto=Data+science\" title=\"You are encouraged to create an account and log in; however, it is not mandatory\"><span>Create account</span></a>,\n",
              " <a accesskey=\"o\" href=\"/w/index.php?title=Special:UserLogin&amp;returnto=Data+science\" title=\"You're encouraged to log in; however, it's not mandatory. [o]\"><span>Log in</span></a>,\n",
              " <a accesskey=\"c\" href=\"/wiki/Data_science\" title=\"View the content page [c]\"><span>Article</span></a>,\n",
              " <a accesskey=\"t\" href=\"/wiki/Talk:Data_science\" rel=\"discussion\" title=\"Discuss improvements to the content page [t]\"><span>Talk</span></a>,\n",
              " <a href=\"/wiki/Data_science\"><span>Read</span></a>,\n",
              " <a accesskey=\"e\" href=\"/w/index.php?title=Data_science&amp;action=edit\" title=\"Edit this page [e]\"><span>Edit</span></a>,\n",
              " <a accesskey=\"h\" href=\"/w/index.php?title=Data_science&amp;action=history\" title=\"Past revisions of this page [h]\"><span>View history</span></a>,\n",
              " <a class=\"mw-wiki-logo\" href=\"/wiki/Main_Page\" title=\"Visit the main page\"></a>,\n",
              " <a accesskey=\"z\" href=\"/wiki/Main_Page\" title=\"Visit the main page [z]\"><span>Main page</span></a>,\n",
              " <a href=\"/wiki/Wikipedia:Contents\" title=\"Guides to browsing Wikipedia\"><span>Contents</span></a>,\n",
              " <a href=\"/wiki/Portal:Current_events\" title=\"Articles related to current events\"><span>Current events</span></a>,\n",
              " <a accesskey=\"x\" href=\"/wiki/Special:Random\" title=\"Visit a randomly selected article [x]\"><span>Random article</span></a>,\n",
              " <a href=\"/wiki/Wikipedia:About\" title=\"Learn about Wikipedia and how it works\"><span>About Wikipedia</span></a>,\n",
              " <a href=\"//en.wikipedia.org/wiki/Wikipedia:Contact_us\" title=\"How to contact Wikipedia\"><span>Contact us</span></a>,\n",
              " <a href=\"https://donate.wikimedia.org/wiki/Special:FundraiserRedirector?utm_source=donate&amp;utm_medium=sidebar&amp;utm_campaign=C13_en.wikipedia.org&amp;uselang=en\" title=\"Support us by donating to the Wikimedia Foundation\"><span>Donate</span></a>,\n",
              " <a href=\"/wiki/Help:Contents\" title=\"Guidance on how to use and edit Wikipedia\"><span>Help</span></a>,\n",
              " <a href=\"/wiki/Help:Introduction\" title=\"Learn how to edit Wikipedia\"><span>Learn to edit</span></a>,\n",
              " <a href=\"/wiki/Wikipedia:Community_portal\" title=\"The hub for editors\"><span>Community portal</span></a>,\n",
              " <a accesskey=\"r\" href=\"/wiki/Special:RecentChanges\" title=\"A list of recent changes to Wikipedia [r]\"><span>Recent changes</span></a>,\n",
              " <a href=\"/wiki/Wikipedia:File_Upload_Wizard\" title=\"Add images or other media for use on Wikipedia\"><span>Upload file</span></a>,\n",
              " <a accesskey=\"j\" href=\"/wiki/Special:WhatLinksHere/Data_science\" title=\"List of all English Wikipedia pages containing links to this page [j]\"><span>What links here</span></a>,\n",
              " <a accesskey=\"k\" href=\"/wiki/Special:RecentChangesLinked/Data_science\" rel=\"nofollow\" title=\"Recent changes in pages linked from this page [k]\"><span>Related changes</span></a>,\n",
              " <a accesskey=\"u\" href=\"/wiki/Wikipedia:File_Upload_Wizard\" title=\"Upload files [u]\"><span>Upload file</span></a>,\n",
              " <a accesskey=\"q\" href=\"/wiki/Special:SpecialPages\" title=\"A list of all special pages [q]\"><span>Special pages</span></a>,\n",
              " <a href=\"/w/index.php?title=Data_science&amp;oldid=1055090265\" title=\"Permanent link to this revision of this page\"><span>Permanent link</span></a>,\n",
              " <a href=\"/w/index.php?title=Data_science&amp;action=info\" title=\"More information about this page\"><span>Page information</span></a>,\n",
              " <a href=\"/w/index.php?title=Special:CiteThisPage&amp;page=Data_science&amp;id=1055090265&amp;wpFormIdentifier=titleform\" title=\"Information on how to cite this page\"><span>Cite this page</span></a>,\n",
              " <a accesskey=\"g\" href=\"https://www.wikidata.org/wiki/Special:EntityPage/Q2374463\" title=\"Structured data on this page hosted by Wikidata [g]\"><span>Wikidata item</span></a>,\n",
              " <a href=\"/w/index.php?title=Special:DownloadAsPdf&amp;page=Data_science&amp;action=show-download-screen\" title=\"Download this page as a PDF file\"><span>Download as PDF</span></a>,\n",
              " <a accesskey=\"p\" href=\"/w/index.php?title=Data_science&amp;printable=yes\" title=\"Printable version of this page [p]\"><span>Printable version</span></a>,\n",
              " <a href=\"https://commons.wikimedia.org/wiki/Category:Data_science\" hreflang=\"en\"><span>Wikimedia Commons</span></a>,\n",
              " <a class=\"interlanguage-link-target\" href=\"https://ar.wikipedia.org/wiki/%D8%B9%D9%84%D9%85_%D8%A7%D9%84%D8%A8%D9%8A%D8%A7%D9%86%D8%A7%D8%AA\" hreflang=\"ar\" lang=\"ar\" title=\"علم البيانات – Arabic\"><span>العربية</span></a>,\n",
              " <a class=\"interlanguage-link-target\" href=\"https://az.wikipedia.org/wiki/Veril%C9%99nl%C9%99r_elmi_(Data_Science)\" hreflang=\"az\" lang=\"az\" title=\"Verilənlər elmi (Data Science) – Azerbaijani\"><span>Azərbaycanca</span></a>,\n",
              " <a class=\"interlanguage-link-target\" href=\"https://bn.wikipedia.org/wiki/%E0%A6%89%E0%A6%AA%E0%A6%BE%E0%A6%A4%E0%A7%8D%E0%A6%A4_%E0%A6%AC%E0%A6%BF%E0%A6%9C%E0%A7%8D%E0%A6%9E%E0%A6%BE%E0%A6%A8\" hreflang=\"bn\" lang=\"bn\" title=\"উপাত্ত বিজ্ঞান – Bangla\"><span>বাংলা</span></a>,\n",
              " <a class=\"interlanguage-link-target\" href=\"https://bg.wikipedia.org/wiki/%D0%9D%D0%B0%D1%83%D0%BA%D0%B0_%D0%B7%D0%B0_%D0%B4%D0%B0%D0%BD%D0%BD%D0%B8%D1%82%D0%B5\" hreflang=\"bg\" lang=\"bg\" title=\"Наука за данните – Bulgarian\"><span>Български</span></a>,\n",
              " <a class=\"interlanguage-link-target\" href=\"https://ca.wikipedia.org/wiki/Ci%C3%A8ncia_de_les_dades\" hreflang=\"ca\" lang=\"ca\" title=\"Ciència de les dades – Catalan\"><span>Català</span></a>,\n",
              " <a class=\"interlanguage-link-target\" href=\"https://cs.wikipedia.org/wiki/Data_science\" hreflang=\"cs\" lang=\"cs\" title=\"Data science – Czech\"><span>Čeština</span></a>,\n",
              " <a class=\"interlanguage-link-target\" href=\"https://de.wikipedia.org/wiki/Data_Science\" hreflang=\"de\" lang=\"de\" title=\"Data Science – German\"><span>Deutsch</span></a>,\n",
              " <a class=\"interlanguage-link-target\" href=\"https://et.wikipedia.org/wiki/Andmeteadus\" hreflang=\"et\" lang=\"et\" title=\"Andmeteadus – Estonian\"><span>Eesti</span></a>,\n",
              " <a class=\"interlanguage-link-target\" href=\"https://el.wikipedia.org/wiki/%CE%95%CF%80%CE%B9%CF%83%CF%84%CE%AE%CE%BC%CE%B7_%CE%B4%CE%B5%CE%B4%CE%BF%CE%BC%CE%AD%CE%BD%CF%89%CE%BD\" hreflang=\"el\" lang=\"el\" title=\"Επιστήμη δεδομένων – Greek\"><span>Ελληνικά</span></a>,\n",
              " <a class=\"interlanguage-link-target\" href=\"https://es.wikipedia.org/wiki/Ciencia_de_datos\" hreflang=\"es\" lang=\"es\" title=\"Ciencia de datos – Spanish\"><span>Español</span></a>,\n",
              " <a class=\"interlanguage-link-target\" href=\"https://eo.wikipedia.org/wiki/Datuma_scienco\" hreflang=\"eo\" lang=\"eo\" title=\"Datuma scienco – Esperanto\"><span>Esperanto</span></a>,\n",
              " <a class=\"interlanguage-link-target\" href=\"https://eu.wikipedia.org/wiki/Datu_zientzia\" hreflang=\"eu\" lang=\"eu\" title=\"Datu zientzia – Basque\"><span>Euskara</span></a>,\n",
              " <a class=\"interlanguage-link-target\" href=\"https://fa.wikipedia.org/wiki/%D8%B9%D9%84%D9%85_%D8%AF%D8%A7%D8%AF%D9%87%E2%80%8C%D9%87%D8%A7\" hreflang=\"fa\" lang=\"fa\" title=\"علم داده‌ها – Persian\"><span>فارسی</span></a>,\n",
              " <a class=\"interlanguage-link-target\" href=\"https://fr.wikipedia.org/wiki/Science_des_donn%C3%A9es\" hreflang=\"fr\" lang=\"fr\" title=\"Science des données – French\"><span>Français</span></a>,\n",
              " <a class=\"interlanguage-link-target\" href=\"https://ko.wikipedia.org/wiki/%EB%8D%B0%EC%9D%B4%ED%84%B0_%EC%82%AC%EC%9D%B4%EC%96%B8%EC%8A%A4\" hreflang=\"ko\" lang=\"ko\" title=\"데이터 사이언스 – Korean\"><span>한국어</span></a>,\n",
              " <a class=\"interlanguage-link-target\" href=\"https://hy.wikipedia.org/wiki/%D5%8F%D5%BE%D5%B5%D5%A1%D5%AC%D5%B6%D5%A5%D6%80%D5%AB_%D5%A3%D5%AB%D5%BF%D5%B8%D6%82%D5%A9%D5%B5%D5%B8%D6%82%D5%B6\" hreflang=\"hy\" lang=\"hy\" title=\"Տվյալների գիտություն – Armenian\"><span>Հայերեն</span></a>,\n",
              " <a class=\"interlanguage-link-target\" href=\"https://hi.wikipedia.org/wiki/%E0%A4%86%E0%A4%81%E0%A4%95%E0%A4%A1%E0%A4%BC%E0%A4%BE_%E0%A4%B5%E0%A4%BF%E0%A4%9C%E0%A5%8D%E0%A4%9E%E0%A4%BE%E0%A4%A8\" hreflang=\"hi\" lang=\"hi\" title=\"आँकड़ा विज्ञान – Hindi\"><span>हिन्दी</span></a>,\n",
              " <a class=\"interlanguage-link-target\" href=\"https://id.wikipedia.org/wiki/Ilmu_data\" hreflang=\"id\" lang=\"id\" title=\"Ilmu data – Indonesian\"><span>Bahasa Indonesia</span></a>,\n",
              " <a class=\"interlanguage-link-target\" href=\"https://it.wikipedia.org/wiki/Scienza_dei_dati\" hreflang=\"it\" lang=\"it\" title=\"Scienza dei dati – Italian\"><span>Italiano</span></a>,\n",
              " <a class=\"interlanguage-link-target\" href=\"https://he.wikipedia.org/wiki/%D7%9E%D7%93%D7%A2_%D7%94%D7%A0%D7%AA%D7%95%D7%A0%D7%99%D7%9D\" hreflang=\"he\" lang=\"he\" title=\"מדע הנתונים – Hebrew\"><span>עברית</span></a>,\n",
              " <a class=\"interlanguage-link-target\" href=\"https://kk.wikipedia.org/wiki/%D0%94%D0%B5%D1%80%D0%B5%D0%BA%D1%82%D0%B5%D1%80_%D1%82%D1%83%D1%80%D0%B0%D0%BB%D1%8B_%D2%93%D1%8B%D0%BB%D1%8B%D0%BC\" hreflang=\"kk\" lang=\"kk\" title=\"Деректер туралы ғылым – Kazakh\"><span>Қазақша</span></a>,\n",
              " <a class=\"interlanguage-link-target\" href=\"https://lv.wikipedia.org/wiki/Datu_m%C4%81c%C4%ABba\" hreflang=\"lv\" lang=\"lv\" title=\"Datu mācība – Latvian\"><span>Latviešu</span></a>,\n",
              " <a class=\"interlanguage-link-target\" href=\"https://mk.wikipedia.org/wiki/%D0%9D%D0%B0%D1%83%D0%BA%D0%B0_%D0%B7%D0%B0_%D0%BF%D0%BE%D0%B4%D0%B0%D1%82%D0%BE%D1%86%D0%B8\" hreflang=\"mk\" lang=\"mk\" title=\"Наука за податоци – Macedonian\"><span>Македонски</span></a>,\n",
              " <a class=\"interlanguage-link-target\" href=\"https://ms.wikipedia.org/wiki/Sains_data\" hreflang=\"ms\" lang=\"ms\" title=\"Sains data – Malay\"><span>Bahasa Melayu</span></a>,\n",
              " <a class=\"interlanguage-link-target\" href=\"https://my.wikipedia.org/wiki/%E1%80%A1%E1%80%81%E1%80%BB%E1%80%80%E1%80%BA%E1%80%A1%E1%80%9C%E1%80%80%E1%80%BA%E1%80%9E%E1%80%AD%E1%80%95%E1%80%B9%E1%80%95%E1%80%B6%E1%80%95%E1%80%8A%E1%80%AC\" hreflang=\"my\" lang=\"my\" title=\"အချက်အလက်သိပ္ပံပညာ – Burmese\"><span>မြန်မာဘာသာ</span></a>,\n",
              " <a class=\"interlanguage-link-target\" href=\"https://nl.wikipedia.org/wiki/Datawetenschap\" hreflang=\"nl\" lang=\"nl\" title=\"Datawetenschap – Dutch\"><span>Nederlands</span></a>,\n",
              " <a class=\"interlanguage-link-target\" href=\"https://ja.wikipedia.org/wiki/%E3%83%87%E3%83%BC%E3%82%BF%E3%82%B5%E3%82%A4%E3%82%A8%E3%83%B3%E3%82%B9\" hreflang=\"ja\" lang=\"ja\" title=\"データサイエンス – Japanese\"><span>日本語</span></a>,\n",
              " <a class=\"interlanguage-link-target\" href=\"https://pl.wikipedia.org/wiki/Danologia\" hreflang=\"pl\" lang=\"pl\" title=\"Danologia – Polish\"><span>Polski</span></a>,\n",
              " <a class=\"interlanguage-link-target\" href=\"https://pt.wikipedia.org/wiki/Ci%C3%AAncia_de_dados\" hreflang=\"pt\" lang=\"pt\" title=\"Ciência de dados – Portuguese\"><span>Português</span></a>,\n",
              " <a class=\"interlanguage-link-target\" href=\"https://ru.wikipedia.org/wiki/%D0%9D%D0%B0%D1%83%D0%BA%D0%B0_%D0%BE_%D0%B4%D0%B0%D0%BD%D0%BD%D1%8B%D1%85\" hreflang=\"ru\" lang=\"ru\" title=\"Наука о данных – Russian\"><span>Русский</span></a>,\n",
              " <a class=\"interlanguage-link-target\" href=\"https://simple.wikipedia.org/wiki/Data_science\" hreflang=\"en-simple\" lang=\"en-simple\" title=\"Data science – Simple English\"><span>Simple English</span></a>,\n",
              " <a class=\"interlanguage-link-target\" href=\"https://fi.wikipedia.org/wiki/Datatiede\" hreflang=\"fi\" lang=\"fi\" title=\"Datatiede – Finnish\"><span>Suomi</span></a>,\n",
              " <a class=\"interlanguage-link-target\" href=\"https://ta.wikipedia.org/wiki/%E0%AE%A4%E0%AE%B0%E0%AE%B5%E0%AF%81_%E0%AE%85%E0%AE%B1%E0%AE%BF%E0%AE%B5%E0%AE%BF%E0%AE%AF%E0%AE%B2%E0%AF%8D\" hreflang=\"ta\" lang=\"ta\" title=\"தரவு அறிவியல் – Tamil\"><span>தமிழ்</span></a>,\n",
              " <a class=\"interlanguage-link-target\" href=\"https://th.wikipedia.org/wiki/%E0%B8%A7%E0%B8%B4%E0%B8%97%E0%B8%A2%E0%B8%B2%E0%B8%81%E0%B8%B2%E0%B8%A3%E0%B8%82%E0%B9%89%E0%B8%AD%E0%B8%A1%E0%B8%B9%E0%B8%A5\" hreflang=\"th\" lang=\"th\" title=\"วิทยาการข้อมูล – Thai\"><span>ไทย</span></a>,\n",
              " <a class=\"interlanguage-link-target\" href=\"https://tr.wikipedia.org/wiki/Veri_bilimi\" hreflang=\"tr\" lang=\"tr\" title=\"Veri bilimi – Turkish\"><span>Türkçe</span></a>,\n",
              " <a class=\"interlanguage-link-target\" href=\"https://uk.wikipedia.org/wiki/%D0%9D%D0%B0%D1%83%D0%BA%D0%B0_%D0%BF%D1%80%D0%BE_%D0%B4%D0%B0%D0%BD%D1%96\" hreflang=\"uk\" lang=\"uk\" title=\"Наука про дані – Ukrainian\"><span>Українська</span></a>,\n",
              " <a class=\"interlanguage-link-target\" href=\"https://ur.wikipedia.org/wiki/%DA%88%DB%8C%D9%B9%D8%A7_%D8%B3%D8%A7%D8%A6%D9%86%D8%B3\" hreflang=\"ur\" lang=\"ur\" title=\"ڈیٹا سائنس – Urdu\"><span>اردو</span></a>,\n",
              " <a class=\"interlanguage-link-target\" href=\"https://vi.wikipedia.org/wiki/Khoa_h%E1%BB%8Dc_d%E1%BB%AF_li%E1%BB%87u\" hreflang=\"vi\" lang=\"vi\" title=\"Khoa học dữ liệu – Vietnamese\"><span>Tiếng Việt</span></a>,\n",
              " <a class=\"interlanguage-link-target\" href=\"https://zh-yue.wikipedia.org/wiki/%E6%95%B8%E6%93%9A%E7%A7%91%E5%AD%B8\" hreflang=\"yue\" lang=\"yue\" title=\"數據科學 – Cantonese\"><span>粵語</span></a>,\n",
              " <a class=\"interlanguage-link-target\" href=\"https://zh.wikipedia.org/wiki/%E6%95%B0%E6%8D%AE%E7%A7%91%E5%AD%A6\" hreflang=\"zh\" lang=\"zh\" title=\"数据科学 – Chinese\"><span>中文</span></a>,\n",
              " <a class=\"wbc-editpage\" href=\"https://www.wikidata.org/wiki/Special:EntityPage/Q2374463#sitelinks-wikipedia\" title=\"Edit interlanguage links\">Edit links</a>,\n",
              " <a href=\"//en.wikipedia.org/wiki/Wikipedia:Text_of_Creative_Commons_Attribution-ShareAlike_3.0_Unported_License\" rel=\"license\">Creative Commons Attribution-ShareAlike License</a>,\n",
              " <a href=\"//creativecommons.org/licenses/by-sa/3.0/\" rel=\"license\" style=\"display:none;\"></a>,\n",
              " <a href=\"//foundation.wikimedia.org/wiki/Terms_of_Use\">Terms of Use</a>,\n",
              " <a href=\"//foundation.wikimedia.org/wiki/Privacy_policy\">Privacy Policy</a>,\n",
              " <a href=\"//www.wikimediafoundation.org/\">Wikimedia Foundation, Inc.</a>,\n",
              " <a class=\"extiw\" href=\"https://foundation.wikimedia.org/wiki/Privacy_policy\" title=\"wmf:Privacy policy\">Privacy policy</a>,\n",
              " <a href=\"/wiki/Wikipedia:About\" title=\"Wikipedia:About\">About Wikipedia</a>,\n",
              " <a href=\"/wiki/Wikipedia:General_disclaimer\" title=\"Wikipedia:General disclaimer\">Disclaimers</a>,\n",
              " <a href=\"//en.wikipedia.org/wiki/Wikipedia:Contact_us\">Contact Wikipedia</a>,\n",
              " <a class=\"noprint stopMobileRedirectToggle\" href=\"//en.m.wikipedia.org/w/index.php?title=Data_science&amp;mobileaction=toggle_view_mobile\">Mobile view</a>,\n",
              " <a href=\"https://www.mediawiki.org/wiki/Special:MyLanguage/How_to_contribute\">Developers</a>,\n",
              " <a href=\"https://stats.wikimedia.org/#/en.wikipedia.org\">Statistics</a>,\n",
              " <a href=\"https://foundation.wikimedia.org/wiki/Cookie_statement\">Cookie statement</a>,\n",
              " <a href=\"https://wikimediafoundation.org/\"><img alt=\"Wikimedia Foundation\" height=\"31\" loading=\"lazy\" src=\"/static/images/footer/wikimedia-button.png\" srcset=\"/static/images/footer/wikimedia-button-1.5x.png 1.5x, /static/images/footer/wikimedia-button-2x.png 2x\" width=\"88\"/></a>,\n",
              " <a href=\"https://www.mediawiki.org/\"><img alt=\"Powered by MediaWiki\" height=\"31\" loading=\"lazy\" src=\"/static/images/footer/poweredby_mediawiki_88x31.png\" srcset=\"/static/images/footer/poweredby_mediawiki_132x47.png 1.5x, /static/images/footer/poweredby_mediawiki_176x62.png 2x\" width=\"88\"/></a>]"
            ]
          },
          "metadata": {},
          "execution_count": 7
        }
      ]
    },
    {
      "cell_type": "markdown",
      "metadata": {
        "id": "e2-M70pMupPk"
      },
      "source": [
        "### Step 3: Use list comprehensions with conditions to clean the link list.\n",
        "\n",
        "There are two types of links, absolute and relative. Absolute links have the full URL and begin with *http* while relative links begin with a forward slash (/) and point to an internal page within the *wikipedia.org* domain. Clean the respective types of URLs as follows.\n",
        "\n",
        "- Absolute Links: Create a list of these and remove any that contain a percentage sign (%).\n",
        "- Relative Links: Create a list of these, add the domain to the link so that you have the full URL, and remove any that contain a percentage sign (%).\n",
        "- Combine the list of absolute and relative links and ensure there are no duplicates."
      ]
    },
    {
      "cell_type": "code",
      "metadata": {
        "id": "pfW6c7-JupPk"
      },
      "source": [
        "domain = 'http://wikipedia.org'"
      ],
      "execution_count": null,
      "outputs": []
    },
    {
      "cell_type": "code",
      "metadata": {
        "id": "tbSNfmXGupPl"
      },
      "source": [
        "# your code here"
      ],
      "execution_count": null,
      "outputs": []
    },
    {
      "cell_type": "markdown",
      "metadata": {
        "id": "TDNNxmTHupPl"
      },
      "source": [
        "### Step 4: Use the os library to create a folder called *wikipedia* and make that the current working directory."
      ]
    },
    {
      "cell_type": "code",
      "metadata": {
        "id": "DY3g6cKPupPm"
      },
      "source": [
        "import os"
      ],
      "execution_count": null,
      "outputs": []
    },
    {
      "cell_type": "code",
      "metadata": {
        "id": "0g2XSHgaupPm"
      },
      "source": [
        "# your code here"
      ],
      "execution_count": null,
      "outputs": []
    },
    {
      "cell_type": "markdown",
      "metadata": {
        "id": "zaYJxjTmupPn"
      },
      "source": [
        "### Step 5: Write a function called index_page that accepts a link and does the following.\n",
        "\n",
        "- Tries to request the content of the page referenced by that link.\n",
        "- Slugifies the filename using the `slugify` function from the [python-slugify](https://pypi.org/project/python-slugify/) library and adds a .html file extension.\n",
        "    - If you don't already have the python-slugify library installed, you can pip install it as follows: `$ pip3 install python-slugify`.\n",
        "    - To import the slugify function, you would do the following: `from slugify import slugify`.\n",
        "    - You can then slugify a link as follows `slugify(link)`.\n",
        "- Creates a file in the wikipedia folder using the slugified filename and writes the contents of the page to the file.\n",
        "- If an exception occurs during the process above, just `pass`."
      ]
    },
    {
      "cell_type": "code",
      "metadata": {
        "id": "k6vEL1-xupPo"
      },
      "source": [
        "from slugify import slugify"
      ],
      "execution_count": null,
      "outputs": []
    },
    {
      "cell_type": "code",
      "metadata": {
        "id": "dNSmLO1pupPo"
      },
      "source": [
        "# your code here"
      ],
      "execution_count": null,
      "outputs": []
    },
    {
      "cell_type": "markdown",
      "metadata": {
        "id": "cd3jRZlxupPo"
      },
      "source": [
        "### Step 6: Sequentially loop through the list of links, running the index_page function each time.\n",
        "\n",
        "Remember to include `%%time` at the beginning of the cell so that it measures the time it takes for the cell to run."
      ]
    },
    {
      "cell_type": "code",
      "metadata": {
        "id": "IS0k_B0hupPp"
      },
      "source": [
        "# your code here"
      ],
      "execution_count": null,
      "outputs": []
    },
    {
      "cell_type": "markdown",
      "metadata": {
        "id": "UE_5xuI6upPp"
      },
      "source": [
        "### Step 7: Perform the page indexing in parallel and note the difference in performance.\n",
        "\n",
        "Remember to include `%%time` at the beginning of the cell so that it measures the time it takes for the cell to run."
      ]
    },
    {
      "cell_type": "code",
      "metadata": {
        "id": "pgevdE-iupPp"
      },
      "source": [
        "import multiprocessing"
      ],
      "execution_count": null,
      "outputs": []
    },
    {
      "cell_type": "code",
      "metadata": {
        "id": "TE7nt3-TupPp"
      },
      "source": [
        "# your code here"
      ],
      "execution_count": null,
      "outputs": []
    }
  ]
}